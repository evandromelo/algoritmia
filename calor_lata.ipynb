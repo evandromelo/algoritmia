{
 "cells": [
  {
   "attachments": {},
   "cell_type": "markdown",
   "metadata": {},
   "source": [
    "### Ejemplo 1 - Transferencia de calor                                    \n",
    "####     T = Ts + (T0 – Ts) *  e **( –k*t)\n",
    "\n",
    "#### Una lata de Coca-Cola a 48’9 ºC fue colocada en la nevera  a 3’3 °C. \n",
    "\n",
    "#### Después de t=3 horas, si k de la lata es 0’45, ¿ Cuál será su Temperatura?"
   ]
  },
  {
   "cell_type": "markdown",
   "metadata": {},
   "source": [
    "To = 48.9\n",
    "Ts = 3.3\n",
    "t  = 3\n",
    "k=0.45\n",
    "\n",
    "T = Ts + (To - Ts) * 2.7182818 ** (-k*t)\n",
    "T"
   ]
  },
  {
   "cell_type": "code",
   "execution_count": 10,
   "metadata": {},
   "outputs": [
    {
     "data": {
      "text/plain": [
       "15"
      ]
     },
     "execution_count": 10,
     "metadata": {},
     "output_type": "execute_result"
    }
   ],
   "source": [
    "T=round(T)\n",
    "T"
   ]
  },
  {
   "cell_type": "markdown",
   "metadata": {},
   "source": [
    "##### Ejemplo 2 - Usando Jupyter\n",
    "Escribe un programa en el que:\n",
    "   1. El número de kilómetros recorridos por un automóvil \n",
    "      alquilado por el usuario fue de 350 km;\n",
    "   2. El número de días que se alquiló el automóvil fue de 13 días;\n",
    "   3. Calcule el precio a pagar por el alquiler, sabiendo que \n",
    "      los costos son de  10 Euros/día y 0´15 Euros/km."
   ]
  },
  {
   "cell_type": "code",
   "execution_count": 15,
   "metadata": {},
   "outputs": [
    {
     "data": {
      "text/plain": [
       "182.5"
      ]
     },
     "execution_count": 15,
     "metadata": {},
     "output_type": "execute_result"
    }
   ],
   "source": [
    "distancia=350\n",
    "dias=13\n",
    "coste_dia=10\n",
    "coste_km=0.15\n",
    "coste_total=dias*coste_dia+distancia*coste_km\n",
    "coste_total"
   ]
  },
  {
   "cell_type": "code",
   "execution_count": null,
   "metadata": {},
   "outputs": [],
   "source": []
  }
 ],
 "metadata": {
  "kernelspec": {
   "display_name": "Python 3",
   "language": "python",
   "name": "python3"
  },
  "language_info": {
   "codemirror_mode": {
    "name": "ipython",
    "version": 3
   },
   "file_extension": ".py",
   "mimetype": "text/x-python",
   "name": "python",
   "nbconvert_exporter": "python",
   "pygments_lexer": "ipython3",
   "version": "3.7.6"
  }
 },
 "nbformat": 4,
 "nbformat_minor": 4
}
