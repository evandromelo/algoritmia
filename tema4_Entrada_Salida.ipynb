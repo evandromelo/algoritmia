{
 "cells": [
  {
   "cell_type": "code",
   "execution_count": null,
   "metadata": {},
   "outputs": [],
   "source": [
    "# Función input\n",
    "nombre = input ('?Cual es tu nombre?')\n",
    "print (nombre)"
   ]
  },
  {
   "cell_type": "code",
   "execution_count": null,
   "metadata": {},
   "outputs": [],
   "source": [
    "# calcular área de triángulo\n",
    "\n",
    "# Entrada de datos\n",
    "altura = input ('informe el valor de la altura (cm): ')\n",
    "base   = input ('informe el valor de la base   (cm): ')\n",
    "\n",
    "# Procesamiento\n",
    "altura = float(altura)\n",
    "base   = float(base)\n",
    "area   = base*altura/2\n",
    "\n",
    "# Salida/Resultados\n",
    "print (area)"
   ]
  },
  {
   "cell_type": "code",
   "execution_count": 4,
   "metadata": {},
   "outputs": [
    {
     "name": "stdout",
     "output_type": "stream",
     "text": [
      "Tiempo de trabajo (años): 35\n",
      "Valor del bono al año de trabajo (Euros): 142.33\n",
      "4981.55 Euros\n"
     ]
    }
   ],
   "source": [
    "# Cálculo de bono por tiempo de trabajo\n",
    "\n",
    "# Entrada de datos\n",
    "tiempo_trab = float(input('Tiempo de trabajo (años): '))\n",
    "vba   = float(input('Valor del bono al año de trabajo (Euros): '))\n",
    "\n",
    "# Procesamiento\n",
    "bono = tiempo_trab * vba\n",
    "\n",
    "# Resultado\n",
    "print (bono,'Euros')"
   ]
  },
  {
   "cell_type": "code",
   "execution_count": null,
   "metadata": {},
   "outputs": [],
   "source": [
    "# Conversión grados F para Kelvin\n",
    "\n",
    "# Entrada del valor en grados F\n",
    "temp_F = float(input('Informe la temperatura (°F): '))\n",
    "\n",
    "# Transformación a Kelvin\n",
    "temp_K = (5/9) * (temp_F - 32) + 273.15\n",
    "\n",
    "# Presentar el resultado en pantalla\n",
    "print (temp_K)"
   ]
  },
  {
   "cell_type": "code",
   "execution_count": 2,
   "metadata": {},
   "outputs": [
    {
     "name": "stdout",
     "output_type": "stream",
     "text": [
      "Informe la temperatura (°F): 125\n",
      "125.0 °F equivale a  325 K\n"
     ]
    }
   ],
   "source": [
    "# Conversión grados F para Kelvin\n",
    "\n",
    "# Entrada del valor en grados F\n",
    "temp_F = float(input('Informe la temperatura (°F): '))\n",
    "\n",
    "# Transformación a Kelvin\n",
    "temp_K = (5/9) * (temp_F - 32) + 273.15\n",
    "temp_K = round(temp_K)\n",
    "\n",
    "# Mejorando la presentación en pantalla\n",
    "print (temp_F, '°F equivale a ', temp_K,'K')"
   ]
  }
 ],
 "metadata": {
  "kernelspec": {
   "display_name": "Python 3",
   "language": "python",
   "name": "python3"
  },
  "language_info": {
   "codemirror_mode": {
    "name": "ipython",
    "version": 3
   },
   "file_extension": ".py",
   "mimetype": "text/x-python",
   "name": "python",
   "nbconvert_exporter": "python",
   "pygments_lexer": "ipython3",
   "version": "3.7.6"
  }
 },
 "nbformat": 4,
 "nbformat_minor": 4
}
